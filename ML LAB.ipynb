{
 "cells": [
  {
   "cell_type": "code",
   "execution_count": 10,
   "metadata": {},
   "outputs": [
    {
     "name": "stdout",
     "output_type": "stream",
     "text": [
      "[\"'Sunny'\", \"'Warm'\", \"'Normal'\", \"'Strong'\", \"'Warm'\", \"'Same'\", 'TRUE']\n",
      "[\"'Sunny'\", \"'Warm'\", \"'High'\", \"'Strong'\", \"'Warm'\", \"'Same'\", 'TRUE']\n",
      "[\"'Rainy'\", \"'Cold'\", \"'High'\", \"'Strong'\", \"'Warm'\", \"'Change'\", 'FALSE']\n",
      "[\"'Sunny'\", \"'Warm'\", \"'High'\", \"'Strong'\", \"'Cool'\", \"'Change'\", 'TRUE']\n",
      "The maximally specific hypothesis for a given training example is: \n",
      "[[\"'Sunny'\", \"'Warm'\", '?', \"'Strong'\", '?', '?']]\n"
     ]
    }
   ],
   "source": [
    "\n",
    "import csv\n",
    "with open('dat.csv', 'r') as f: \n",
    "    reader = csv.reader(f)\n",
    "    headers = next(reader) \n",
    "    your_list = list(reader)\n",
    "#     print(your_list)\n",
    "h = [['0', '0', '0', '0', '0', '0']]\n",
    "for i in your_list:\n",
    "    print(i)\n",
    "    if i[-1] == \"TRUE\":\n",
    "        j = 0\n",
    "        for x in i:\n",
    "            if x != \"TRUE\":\n",
    "                if x != h[0][j] and h[0][j] == '0':\n",
    "                    h[0][j] = x\n",
    "                elif x != h[0][j] and h[0][j] != '0':\n",
    "                    h[0][j] = '?' \n",
    "                j = j + 1\n",
    "print(\"The maximally specific hypothesis for a given training example is: \") \n",
    "print(h)"
   ]
  },
  {
   "cell_type": "code",
   "execution_count": 8,
   "metadata": {},
   "outputs": [
    {
     "name": "stdout",
     "output_type": "stream",
     "text": [
      "The maximally specific hypothesis for a given training example is: \n",
      "[['0', '0', '0', '0', '0', '0']]\n"
     ]
    }
   ],
   "source": [
    "import csv\n",
    "\n",
    "with open('dat.csv', 'r') as f: \n",
    "    reader = csv.reader(f)\n",
    "    headers = next(reader) \n",
    "    data = list(reader)\n",
    "    \n",
    "h = [['0', '0', '0', '0', '0', '0']]\n",
    "for i in data:\n",
    "    if i[-1] == \"TRUE\":\n",
    "        for j, x in enumerate(i):\n",
    "            if x != \"TRUE\" and (x != h[0][j] and h[0][j] != '0'):\n",
    "                h[0][j] = '?' if h[0][j] != '0' else x\n",
    "print(\"The maximally specific hypothesis for a given training example is: \") \n",
    "print(h)\n"
   ]
  },
  {
   "cell_type": "code",
   "execution_count": 17,
   "metadata": {},
   "outputs": [
    {
     "name": "stdout",
     "output_type": "stream",
     "text": [
      "[\"'Sunny'\", \"'Warm'\", \"'Normal'\", \"'Strong'\", \"'Warm'\", \"'Same'\", 'TRUE']\n",
      "[\"'Sunny'\", \"'Warm'\", \"'High'\", \"'Strong'\", \"'Warm'\", \"'Same'\", 'TRUE']\n",
      "[\"'Rainy'\", \"'Cold'\", \"'High'\", \"'Strong'\", \"'Warm'\", \"'Change'\", 'FALSE']\n",
      "[\"'Sunny'\", \"'Warm'\", \"'High'\", \"'Strong'\", \"'Cool'\", \"'Change'\", 'TRUE']\n",
      "maximally specific hypothesis\n"
     ]
    },
    {
     "data": {
      "text/plain": [
       "[[\"'Sunny'\", \"'Warm'\", '?', \"'Strong'\", '?', '?']]"
      ]
     },
     "execution_count": 17,
     "metadata": {},
     "output_type": "execute_result"
    }
   ],
   "source": [
    "import csv\n",
    "\n",
    "with open('dat.csv','r') as f:\n",
    "    reader=csv.reader(f)\n",
    "    header=next(reader)\n",
    "    l=list(reader)\n",
    "h=[['0','0','0','0','0','0']]\n",
    "for i in l:\n",
    "    print(i)\n",
    "    if i[-1]==\"TRUE\":\n",
    "        j=0\n",
    "\n",
    "        for x in i:\n",
    "            if x != \"TRUE\":\n",
    "                if x != h[0][j] and h[0][j]==\"0\":\n",
    "                    h[0][j]=x\n",
    "                elif x != h[0][j] and h[0][j] !=\"0\":\n",
    "                    h[0][j]=\"?\"\n",
    "                j+=1\n",
    "print(\"maximally specific hypothesis\")\n",
    "\n",
    "h"
   ]
  },
  {
   "cell_type": "code",
   "execution_count": 19,
   "metadata": {},
   "outputs": [
    {
     "name": "stdout",
     "output_type": "stream",
     "text": [
      "estimated coefficients:\n",
      "b_0=1.2363636363636363\n",
      "b_1=1.1696969696969697\n"
     ]
    },
    {
     "data": {
      "image/png": "[encoded data removed]",
      "text/plain": [
       "<Figure size 432x288 with 1 Axes>"
      ]
     },
     "metadata": {
      "needs_background": "light"
     },
     "output_type": "display_data"
    }
   ],
   "source": [
    "#3\n",
    "\n",
    "import numpy as np \n",
    "import matplotlib.pyplot as plt\n",
    "def estimate_coef(x, y):\n",
    "    n =np.size(x)\n",
    "    m_x,m_y=np.mean(x),np.mean(y)\n",
    "    SS_xy=np.sum(y*x)-n*m_y*m_x\n",
    "    SS_xx=np.sum(x*x)-n*m_x*m_x\n",
    "    b_1=SS_xy/SS_xx\n",
    "    b_0=m_y-b_1*m_x\n",
    "    return(b_0,b_1)\n",
    "def plot_regline(x,y,b):\n",
    "    plt.scatter(x,y,color=\"m\",marker=\"o\",s=30)\n",
    "    y_pred=b[0]+b[1]*x\n",
    "    plt.plot(x, y_pred, color = \"g\")\n",
    "#     plt.xlabel('x')\n",
    "#     plt.ylabel('y')\n",
    "    plt.show()\n",
    "def main():\n",
    "    x=np.array([0,1,2,3,4,5,6,7,8,9])\n",
    "    y=np.array([1,3,2,5,7,8,8,9,10,12])\n",
    "    b=estimate_coef(x,y)\n",
    "    print(\"estimated coefficients:\\nb_0={}\\nb_1={}\".format(b[0],b[1]))\n",
    "    plot_regline(x,y,b)\n",
    "main()"
   ]
  },
  {
   "cell_type": "code",
   "execution_count": 26,
   "metadata": {},
   "outputs": [
    {
     "name": "stdout",
     "output_type": "stream",
     "text": [
      "1.2363636363636363\n",
      "1.1696969696969697\n"
     ]
    },
    {
     "data": {
      "image/png": "[encoded data removed]",
      "text/plain": [
       "<Figure size 432x288 with 1 Axes>"
      ]
     },
     "metadata": {
      "needs_background": "light"
     },
     "output_type": "display_data"
    }
   ],
   "source": [
    "import numpy as np\n",
    "import matplotlib.pyplot as plt\n",
    "\n",
    "def coef(x,y):\n",
    "    n=np.size(x)\n",
    "    mx=np.mean(x)\n",
    "    my=np.mean(y)\n",
    "    \n",
    "    sy=np.sum(y*x)-n * my * mx\n",
    "    sx=np.sum(x*x)-n * mx * mx\n",
    "    \n",
    "    b1=sy/sx\n",
    "    b0=my-b1*mx\n",
    "    \n",
    "    return(b0,b1)\n",
    "\n",
    "def plot(x,y,b):\n",
    "    plt.scatter(x,y,color=\"m\",marker=\"o\",s=30)\n",
    "    by=b[0]+b[1]*x\n",
    "    \n",
    "    plt.plot(x,by,color=\"g\")\n",
    "    plt.show()\n",
    "    \n",
    "def main():\n",
    "    x=np.array([0,1,2,3,4,5,6,7,8,9])\n",
    "    y=np.array([1,3,2,5,7,8,8,9,10,12])\n",
    "    \n",
    "    b=coef(x,y)\n",
    "    print(b[0])\n",
    "    print(b[1])\n",
    "    plot(x,y,b)\n",
    "main()"
   ]
  },
  {
   "cell_type": "code",
   "execution_count": 18,
   "metadata": {},
   "outputs": [
    {
     "name": "stdout",
     "output_type": "stream",
     "text": [
      "Input: \n",
      "[[0.66666667 1.        ]\n",
      " [0.33333333 0.55555556]\n",
      " [1.         0.66666667]]\n",
      "Actual Output: \n",
      "[[0.92]\n",
      " [0.86]\n",
      " [0.89]]\n",
      "Predicted Output: \n",
      " [[0.89630337]\n",
      " [0.88092038]\n",
      " [0.89222273]]\n"
     ]
    }
   ],
   "source": [
    "#5\n",
    "import numpy as np\n",
    "X = np.array(([2, 9], [1, 5], [3, 6]), dtype=float)\n",
    "y = np.array(([92], [86], [89]), dtype=float)\n",
    "X = X/np.amax(X,axis=0)\n",
    "y = y/100\n",
    "def sigmoid (x):\n",
    "    return 1/(1 + np.exp(-x))\n",
    "def derivatives_sigmoid(x):\n",
    "    return x * (1 - x)\n",
    "epoch=5000\n",
    "lr=0.1\n",
    "inputlayer_neurons = 2\n",
    "hiddenlayer_neurons = 3\n",
    "output_neurons = 1\n",
    "wh=np.random.uniform(size=(inputlayer_neurons,hiddenlayer_neurons))\n",
    "bh=np.random.uniform(size=(1,hiddenlayer_neurons))\n",
    "wout=np.random.uniform(size=(hiddenlayer_neurons,output_neurons))\n",
    "bout=np.random.uniform(size=(1,output_neurons))\n",
    "for i in range(epoch):\n",
    "    hinp1=np.dot(X,wh)\n",
    "    hinp=hinp1 + bh\n",
    "    hlayer_act = sigmoid(hinp)\n",
    "    outinp1=np.dot(hlayer_act,wout)\n",
    "    outinp= outinp1+ bout\n",
    "    output = sigmoid(outinp)\n",
    "    EO = y-output\n",
    "    outgrad = derivatives_sigmoid(output)\n",
    "    d_output = EO* outgrad\n",
    "    EH = d_output.dot(wout.T)\n",
    "    hiddengrad = derivatives_sigmoid(hlayer_act)\n",
    "    d_hiddenlayer = EH * hiddengrad\n",
    "    wout += hlayer_act.T.dot(d_output) *lr\n",
    "    wh += X.T.dot(d_hiddenlayer) *lr\n",
    "print(\"Input: \\n\" + str(X))\n",
    "print(\"Actual Output: \\n\" + str(y))\n",
    "print(\"Predicted Output: \\n\" ,output)"
   ]
  },
  {
   "cell_type": "code",
   "execution_count": 5,
   "metadata": {},
   "outputs": [
    {
     "name": "stdout",
     "output_type": "stream",
     "text": [
      "Input: \n",
      "[[0.66666667 1.        ]\n",
      " [0.33333333 0.55555556]\n",
      " [1.         0.66666667]]\n",
      "Actual Output: \n",
      "[[0.92]\n",
      " [0.86]\n",
      " [0.89]]\n",
      "Predicted Output: \n",
      " [[0.72030159]\n",
      " [0.70050988]\n",
      " [0.71969897]]\n"
     ]
    },
    {
     "data": {
      "text/plain": [
       "array([[0.97175697, 0.51875626, 0.3233439 ],\n",
       "       [0.40761632, 0.72824672, 0.48803768]])"
      ]
     },
     "execution_count": 5,
     "metadata": {},
     "output_type": "execute_result"
    }
   ],
   "source": [
    "import numpy as np\n",
    "\n",
    "X = np.array(([2, 9], [1, 5], [3, 6]), dtype=float)\n",
    "y = np.array(([92], [86], [89]), dtype=float)\n",
    "X = X/np.amax(X,axis=0)\n",
    "y = y/100\n",
    "\n",
    "def sigmoid(x):\n",
    "    return 1/(1 + np.exp(-x))\n",
    "\n",
    "epoch=5000\n",
    "lr=0.1\n",
    "il = 2\n",
    "hl = 3\n",
    "ol = 1\n",
    "\n",
    "wh=np.random.uniform(size=(il,hl))\n",
    "bh=np.random.uniform(size=(1,hl))\n",
    "wout=np.random.uniform(size=(hl,ol))\n",
    "bout=np.random.uniform(size=(1,ol))\n",
    "\n",
    "for i in range(epoch):\n",
    "    hinp = np.dot(X,wh) + bh\n",
    "    hlayer_act = sigmoid(hinp)\n",
    "    outinp = np.dot(hlayer_act,wout) + bout\n",
    "    output = sigmoid(outinp)\n",
    "#     EO = y-output\n",
    "#     outgrad = output * (1 - output)\n",
    "#     d_output = EO* outgrad\n",
    "#     EH = d_output.dot(wout.T)\n",
    "#     hiddengrad = hlayer_act * (1 - hlayer_act)\n",
    "#     d_hiddenlayer = EH * hiddengrad\n",
    "#     wout += hlayer_act.T.dot(d_output) *lr\n",
    "#     wh += X.T.dot(d_hiddenlayer) *lr\n",
    "\n",
    "print(\"Input: \\n\" + str(X))\n",
    "print(\"Actual Output: \\n\" + str(y))\n",
    "print(\"Predicted Output: \\n\" ,output)\n"
   ]
  },
  {
   "cell_type": "code",
   "execution_count": 13,
   "metadata": {},
   "outputs": [
    {
     "name": "stdout",
     "output_type": "stream",
     "text": [
      "Input: \n",
      "[[2. 9.]\n",
      " [1. 5.]\n",
      " [3. 6.]]\n",
      "Actual Output: \n",
      "[[0.92]\n",
      " [0.86]\n",
      " [0.89]]\n",
      "Predicted Output: \n",
      " [[0.89465485]\n",
      " [0.87745737]\n",
      " [0.89706512]]\n"
     ]
    }
   ],
   "source": [
    "import numpy as np\n",
    "\n",
    "X = np.array(([2, 9], [1, 5], [3, 6]), dtype=float) / np.amax(X, axis=0)\n",
    "y = np.array(([92], [86], [89]), dtype=float) / 100\n",
    "\n",
    "def sigmoid(x):\n",
    "    return 1/(1 + np.exp(-x))\n",
    "\n",
    "epoch = 5000\n",
    "lr = 0.1\n",
    "input_neurons = 2\n",
    "hidden_neurons = 3\n",
    "output_neurons = 1\n",
    "\n",
    "wh = np.random.uniform(size=(input_neurons, hidden_neurons))\n",
    "bh = np.random.uniform(size=(1, hidden_neurons))\n",
    "wout = np.random.uniform(size=(hidden_neurons, output_neurons))\n",
    "bout = np.random.uniform(size=(1, output_neurons))\n",
    "\n",
    "for _ in range(epoch):\n",
    "    hinp = np.dot(X, wh) + bh\n",
    "    hlayer_act = sigmoid(hinp)\n",
    "    outinp = np.dot(hlayer_act, wout) + bout\n",
    "    output = sigmoid(outinp)\n",
    "    EO = y - output\n",
    "    outgrad = output * (1 - output)\n",
    "    d_output = EO * outgrad\n",
    "    EH = d_output.dot(wout.T)\n",
    "    hiddengrad = hlayer_act * (1 - hlayer_act)\n",
    "    d_hiddenlayer = EH * hiddengrad\n",
    "    wout += hlayer_act.T.dot(d_output) * lr\n",
    "    wh += X.T.dot(d_hiddenlayer) * lr\n",
    "\n",
    "print(\"Input: \\n\" + str(X))\n",
    "print(\"Actual Output: \\n\" + str(y))\n",
    "print(\"Predicted Output: \\n\" ,output)\n"
   ]
  },
  {
   "cell_type": "code",
   "execution_count": 28,
   "metadata": {},
   "outputs": [
    {
     "name": "stdout",
     "output_type": "stream",
     "text": [
      "Iris Data set loaded...\n",
      "Dataset is split into training and testing...\n",
      "Size of trainng data and its label (135, 4) (135,)\n",
      "Size of trainng data and its label (15, 4) (15,)\n",
      "Label 0 - setosa\n",
      "Label 1 - versicolor\n",
      "Label 2 - virginica\n",
      "Results of Classification using K-nn with K=1 \n",
      " Sample: [5.1 3.3 1.7 0.5]  Actual-label: 0  Predicted-label: 0\n",
      " Sample: [6.4 2.9 4.3 1.3]  Actual-label: 1  Predicted-label: 1\n",
      " Sample: [6.7 3.3 5.7 2.5]  Actual-label: 2  Predicted-label: 2\n",
      " Sample: [5.8 4.  1.2 0.2]  Actual-label: 0  Predicted-label: 0\n",
      " Sample: [4.6 3.4 1.4 0.3]  Actual-label: 0  Predicted-label: 0\n",
      " Sample: [5.6 2.7 4.2 1.3]  Actual-label: 1  Predicted-label: 1\n",
      " Sample: [5.2 3.5 1.5 0.2]  Actual-label: 0  Predicted-label: 0\n",
      " Sample: [6.5 3.  5.2 2. ]  Actual-label: 2  Predicted-label: 2\n",
      " Sample: [6.5 3.  5.8 2.2]  Actual-label: 2  Predicted-label: 2\n",
      " Sample: [7.7 2.6 6.9 2.3]  Actual-label: 2  Predicted-label: 2\n",
      " Sample: [6.1 2.8 4.7 1.2]  Actual-label: 1  Predicted-label: 1\n",
      " Sample: [6.3 2.9 5.6 1.8]  Actual-label: 2  Predicted-label: 2\n",
      " Sample: [5.5 2.4 3.8 1.1]  Actual-label: 1  Predicted-label: 1\n",
      " Sample: [6.3 2.7 4.9 1.8]  Actual-label: 2  Predicted-label: 2\n",
      " Sample: [5.7 2.8 4.1 1.3]  Actual-label: 1  Predicted-label: 1\n",
      "Classification Accuracy : 1.0\n"
     ]
    }
   ],
   "source": [
    "#10\n",
    "from sklearn.model_selection import train_test_split \n",
    "from sklearn.neighbors import KNeighborsClassifier \n",
    "from sklearn import datasets\n",
    "\n",
    "iris=datasets.load_iris() \n",
    "print(\"Iris Data set loaded...\") \n",
    "iris_data=iris.data\n",
    "iris_labels=iris.target #print(iris_data) print(iris_labels)\n",
    "x_train,x_test,y_train,y_test=train_test_split(iris_data,iris_labels,test_size=0.1) \n",
    "print(\"Dataset is split into training and testing...\")\n",
    "print(\"Size of trainng data and its label\",x_train.shape,y_train.shape) \n",
    "print(\"Size of trainng data and its label\",x_test.shape, y_test.shape)\n",
    " \n",
    "\n",
    " \n",
    "\n",
    "\n",
    "# Prints Label no. and their names \n",
    "for i in range(len(iris.target_names)):\n",
    "    print(\"Label\", i , \"-\",str(iris.target_names[i]))\n",
    "\n",
    "classifier=KNeighborsClassifier(n_neighbors=1) \n",
    "classifier.fit(x_train,y_train) \n",
    "y_pred=classifier.predict(x_test)\n",
    "\n",
    "# Display the results\n",
    "print(\"Results of Classification using K-nn with K=1 \") \n",
    "for r in range(0,len(x_test)):\n",
    "    print(\" Sample:\", str(x_test[r]), \" Actual-label:\", str(y_test[r]), \" Predicted-label:\",str(y_pred[r])) \n",
    "print(\"Classification Accuracy :\" , classifier.score(x_test,y_test))"
   ]
  },
  {
   "cell_type": "code",
   "execution_count": null,
   "metadata": {},
   "outputs": [],
   "source": []
  },
  {
   "cell_type": "code",
   "execution_count": 7,
   "metadata": {},
   "outputs": [
    {
     "name": "stdout",
     "output_type": "stream",
     "text": [
      "Results of Classification using K-nn with K=1:\n",
      "Sample: [5.6 2.7 4.2 1.3] Actual-label: 1 Predicted-label: 1\n",
      "Sample: [7.1 3.  5.9 2.1] Actual-label: 2 Predicted-label: 2\n",
      "Sample: [7.2 3.2 6.  1.8] Actual-label: 2 Predicted-label: 2\n",
      "Sample: [6.1 2.8 4.7 1.2] Actual-label: 1 Predicted-label: 1\n",
      "Sample: [5.  2.3 3.3 1. ] Actual-label: 1 Predicted-label: 1\n",
      "Sample: [6.7 3.1 4.7 1.5] Actual-label: 1 Predicted-label: 1\n",
      "Sample: [6.3 2.9 5.6 1.8] Actual-label: 2 Predicted-label: 2\n",
      "Sample: [5.8 2.6 4.  1.2] Actual-label: 1 Predicted-label: 1\n",
      "Sample: [5.  3.4 1.5 0.2] Actual-label: 0 Predicted-label: 0\n",
      "Sample: [6.4 3.1 5.5 1.8] Actual-label: 2 Predicted-label: 2\n",
      "Sample: [5.1 3.8 1.6 0.2] Actual-label: 0 Predicted-label: 0\n",
      "Sample: [5.1 3.5 1.4 0.2] Actual-label: 0 Predicted-label: 0\n",
      "Sample: [5.6 2.8 4.9 2. ] Actual-label: 2 Predicted-label: 2\n",
      "Sample: [6.3 2.7 4.9 1.8] Actual-label: 2 Predicted-label: 2\n",
      "Sample: [4.9 3.1 1.5 0.1] Actual-label: 0 Predicted-label: 0\n",
      "Classification Accuracy: 1.0\n"
     ]
    }
   ],
   "source": [
    "from sklearn.model_selection import train_test_split \n",
    "from sklearn.neighbors import KNeighborsClassifier \n",
    "from sklearn import datasets\n",
    "\n",
    "iris = datasets.load_iris()\n",
    "x_train, x_test, y_train, y_test = train_test_split(iris.data, iris.target, test_size=0.1)\n",
    "\n",
    "classifier = KNeighborsClassifier(n_neighbors=1) \n",
    "classifier.fit(x_train, y_train) \n",
    "y_pred = classifier.predict(x_test)\n",
    "\n",
    "print(\"Results of Classification using K-nn with K=1:\") \n",
    "for r in range(0, len(x_test)):\n",
    "    print(\"Sample:\", x_test[r], \"Actual-label:\", y_test[r], \"Predicted-label:\", y_pred[r]) \n",
    "print(\"Classification Accuracy:\", classifier.score(x_test, y_test))\n"
   ]
  },
  {
   "cell_type": "code",
   "execution_count": 41,
   "metadata": {},
   "outputs": [
    {
     "name": "stdout",
     "output_type": "stream",
     "text": [
      "(135, 4) (135,)\n",
      "(15, 4) (15,)\n",
      "0 --> setosa\n",
      "1 --> versicolor\n",
      "2 --> virginica\n",
      "input:  [5.  3.4 1.6 0.4] actual output:  0 predicted output:  0\n",
      "input:  [4.9 3.1 1.5 0.2] actual output:  0 predicted output:  0\n",
      "input:  [6.7 3.  5.  1.7] actual output:  1 predicted output:  1\n",
      "input:  [7.7 2.6 6.9 2.3] actual output:  2 predicted output:  2\n",
      "input:  [5.1 3.8 1.9 0.4] actual output:  0 predicted output:  0\n",
      "input:  [5.1 3.5 1.4 0.2] actual output:  0 predicted output:  0\n",
      "input:  [5.1 3.7 1.5 0.4] actual output:  0 predicted output:  0\n",
      "input:  [6.4 3.2 4.5 1.5] actual output:  1 predicted output:  1\n",
      "input:  [7.6 3.  6.6 2.1] actual output:  2 predicted output:  2\n",
      "input:  [4.6 3.1 1.5 0.2] actual output:  0 predicted output:  0\n",
      "input:  [6.6 2.9 4.6 1.3] actual output:  1 predicted output:  1\n",
      "input:  [6.3 2.3 4.4 1.3] actual output:  1 predicted output:  1\n",
      "input:  [4.8 3.1 1.6 0.2] actual output:  0 predicted output:  0\n",
      "input:  [5.2 3.4 1.4 0.2] actual output:  0 predicted output:  0\n",
      "input:  [5.4 3.9 1.3 0.4] actual output:  0 predicted output:  0\n"
     ]
    }
   ],
   "source": [
    "from sklearn.model_selection import train_test_split\n",
    "from sklearn.neighbors import KNeighborsClassifier\n",
    "from sklearn import datasets\n",
    "\n",
    "iris=datasets.load_iris()\n",
    "iris_data=iris.data\n",
    "ilabel = iris.target\n",
    "\n",
    "xt,xtt,yt,ytt=train_test_split(iris_data,ilabel,test_size=0.1)\n",
    "\n",
    "print(xt.shape, yt.shape)\n",
    "print(xtt.shape, ytt.shape)\n",
    "\n",
    "for i in range(len(iris.target_names)):\n",
    "    print(i,\"-->\", iris.target_names[i])\n",
    "    \n",
    "cf=KNeighborsClassifier(n_neighbors=1)\n",
    "cf.fit(xt,yt)\n",
    "\n",
    "pred=cf.predict(xtt)\n",
    "\n",
    "for r in range(0,len(xtt)):\n",
    "    print(\"input: \", str(xtt[r]), \"actual output: \",str(ytt[r]), \"predicted output: \", str(pred[r]))\n",
    "\n"
   ]
  },
  {
   "cell_type": "code",
   "execution_count": null,
   "metadata": {},
   "outputs": [],
   "source": []
  }
 ],
 "metadata": {
  "kernelspec": {
   "display_name": "Python 3",
   "language": "python",
   "name": "python3"
  },
  "language_info": {
   "codemirror_mode": {
    "name": "ipython",
    "version": 3
   },
   "file_extension": ".py",
   "mimetype": "text/x-python",
   "name": "python",
   "nbconvert_exporter": "python",
   "pygments_lexer": "ipython3",
   "version": "3.7.1"
  }
 },
 "nbformat": 4,
 "nbformat_minor": 2
}
